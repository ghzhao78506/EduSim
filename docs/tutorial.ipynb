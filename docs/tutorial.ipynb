{
 "cells": [
  {
   "cell_type": "code",
   "execution_count": 1,
   "metadata": {
    "collapsed": true
   },
   "outputs": [
    {
     "ename": "ImportError",
     "evalue": "cannot import name 'Graph' from 'EduSim' (E:\\Program\\EduSim\\EduSim\\__init__.py)",
     "output_type": "error",
     "traceback": [
      "\u001B[1;31m---------------------------------------------------------------------------\u001B[0m",
      "\u001B[1;31mImportError\u001B[0m                               Traceback (most recent call last)",
      "\u001B[1;32m<ipython-input-1-58db0369f8cd>\u001B[0m in \u001B[0;36m<module>\u001B[1;34m\u001B[0m\n\u001B[0;32m      1\u001B[0m \u001B[1;32mimport\u001B[0m \u001B[0mgym\u001B[0m\u001B[1;33m\u001B[0m\u001B[1;33m\u001B[0m\u001B[0m\n\u001B[1;32m----> 2\u001B[1;33m \u001B[1;32mfrom\u001B[0m \u001B[0mEduSim\u001B[0m \u001B[1;32mimport\u001B[0m \u001B[0mGraph\u001B[0m\u001B[1;33m,\u001B[0m \u001B[0mRandomGraphAgent\u001B[0m\u001B[1;33m\u001B[0m\u001B[1;33m\u001B[0m\u001B[0m\n\u001B[0m\u001B[0;32m      3\u001B[0m \u001B[1;33m\u001B[0m\u001B[0m\n\u001B[0;32m      4\u001B[0m \u001B[0menv\u001B[0m \u001B[1;33m=\u001B[0m \u001B[0mgym\u001B[0m\u001B[1;33m.\u001B[0m\u001B[0mmake\u001B[0m\u001B[1;33m(\u001B[0m\u001B[1;34m'KSS-v0'\u001B[0m\u001B[1;33m,\u001B[0m \u001B[0mlearner_num\u001B[0m\u001B[1;33m=\u001B[0m\u001B[1;36m4000\u001B[0m\u001B[1;33m)\u001B[0m\u001B[1;33m\u001B[0m\u001B[1;33m\u001B[0m\u001B[0m\n\u001B[0;32m      5\u001B[0m \u001B[0magent\u001B[0m \u001B[1;33m=\u001B[0m \u001B[0mRandomGraphAgent\u001B[0m\u001B[1;33m(\u001B[0m\u001B[0mGraph\u001B[0m\u001B[1;33m(\u001B[0m\u001B[1;34m\"KSS\"\u001B[0m\u001B[1;33m)\u001B[0m\u001B[1;33m)\u001B[0m\u001B[1;33m\u001B[0m\u001B[1;33m\u001B[0m\u001B[0m\n",
      "\u001B[1;31mImportError\u001B[0m: cannot import name 'Graph' from 'EduSim' (E:\\Program\\EduSim\\EduSim\\__init__.py)"
     ]
    }
   ],
   "source": [
    "import gym\n",
    "from EduSim.Envs.KSS import KSSAgent\n",
    "\n",
    "env = gym.make('KSS-v0', learner_num=4000)\n",
    "agent = KSSAgent(env.action_space)\n",
    "max_episode_num = 1000\n",
    "n_step = False\n",
    "max_steps = 20\n",
    "train = True\n",
    "\n",
    "episode = 0\n",
    "\n",
    "while True:\n",
    "    if max_episode_num is not None and episode > max_episode_num:\n",
    "        break\n",
    "\n",
    "    try:\n",
    "        agent.begin_episode(env.begin_episode())\n",
    "        episode += 1\n",
    "    except ValueError:  # pragma: no cover\n",
    "        break\n",
    "\n",
    "    # recommend and learn\n",
    "    if n_step is True:\n",
    "        # generate a learning path\n",
    "        learning_path = agent.n_step(max_steps)\n",
    "        env.n_step(learning_path)\n",
    "    else:\n",
    "        # generate a learning path step by step\n",
    "        for _ in range(max_steps):\n",
    "            try:\n",
    "                learning_item = agent.step()\n",
    "            except ValueError:  # pragma: no cover\n",
    "                break\n",
    "            interaction, _ ,_, _ = env.step(learning_item)\n",
    "            agent.observe(**interaction[\"performance\"])\n",
    "\n",
    "    # test the learner to see the learning effectiveness\n",
    "    agent.episode_reward(env.end_episode()[\"reward\"])\n",
    "    agent.end_episode()\n",
    "\n",
    "    if train is True:\n",
    "        agent.tune()"
   ]
  }
 ],
 "metadata": {
  "kernelspec": {
   "display_name": "Python 3",
   "language": "python",
   "name": "python3"
  },
  "language_info": {
   "codemirror_mode": {
    "name": "ipython",
    "version": 2
   },
   "file_extension": ".py",
   "mimetype": "text/x-python",
   "name": "python",
   "nbconvert_exporter": "python",
   "pygments_lexer": "ipython2",
   "version": "2.7.6"
  }
 },
 "nbformat": 4,
 "nbformat_minor": 0
}