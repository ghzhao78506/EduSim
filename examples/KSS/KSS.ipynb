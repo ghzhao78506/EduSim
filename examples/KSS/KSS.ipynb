{
 "cells": [
  {
   "cell_type": "code",
   "execution_count": 1,
   "metadata": {
    "collapsed": true
   },
   "outputs": [
    {
     "data": {
      "text/plain": "{'knowledge_structures': <EduSim.Envs.shared.KSS_KES.KS.KS object at 0x000001BD5B7C5850>, 'action_space': [{'id': '0', 'content': {}, 'knowledge': 0},\n {'id': '1', 'content': {}, 'knowledge': 1},\n {'id': '2', 'content': {}, 'knowledge': 2},\n {'id': '3', 'content': {}, 'knowledge': 3},\n {'id': '4', 'content': {}, 'knowledge': 4},\n {'id': '5', 'content': {}, 'knowledge': 5},\n {'id': '6', 'content': {}, 'knowledge': 6},\n {'id': '7', 'content': {}, 'knowledge': 7},\n {'id': '8', 'content': {}, 'knowledge': 8},\n {'id': '9', 'content': {}, 'knowledge': 9}]}"
     },
     "execution_count": 1,
     "metadata": {},
     "output_type": "execute_result"
    }
   ],
   "source": [
    "import gym\n",
    "from EduSim.Envs.KSS import KSSEnv, KSSAgent, kss_train_eval\n",
    "\n",
    "env: KSSEnv = gym.make(\"KSS-v2\", seed=10)\n",
    "agent = KSSAgent(env.action_space)\n",
    "\n",
    "env"
   ]
  },
  {
   "cell_type": "code",
   "execution_count": 2,
   "outputs": [
    {
     "data": {
      "text/plain": "[0, 1, 2, 3, 4, 8, 5, 9, 6, 7]"
     },
     "execution_count": 2,
     "metadata": {},
     "output_type": "execute_result"
    }
   ],
   "source": [
    "list(env.knowledge_structure.nodes)"
   ],
   "metadata": {
    "collapsed": false,
    "pycharm": {
     "name": "#%%\n"
    }
   }
  },
  {
   "cell_type": "code",
   "execution_count": 3,
   "outputs": [
    {
     "data": {
      "text/plain": "[{'id': '0', 'content': {}, 'knowledge': 0},\n {'id': '1', 'content': {}, 'knowledge': 1},\n {'id': '2', 'content': {}, 'knowledge': 2},\n {'id': '3', 'content': {}, 'knowledge': 3},\n {'id': '4', 'content': {}, 'knowledge': 4},\n {'id': '5', 'content': {}, 'knowledge': 5},\n {'id': '6', 'content': {}, 'knowledge': 6},\n {'id': '7', 'content': {}, 'knowledge': 7},\n {'id': '8', 'content': {}, 'knowledge': 8},\n {'id': '9', 'content': {}, 'knowledge': 9}]"
     },
     "execution_count": 3,
     "metadata": {},
     "output_type": "execute_result"
    }
   ],
   "source": [
    "env.action_space"
   ],
   "metadata": {
    "collapsed": false,
    "pycharm": {
     "name": "#%%\n"
    }
   }
  },
  {
   "cell_type": "code",
   "execution_count": 4,
   "outputs": [
    {
     "name": "stdout",
     "output_type": "stream",
     "text": [
      "   Episode|    Total-E   Episode-Reward             Progress           \n",
      "         1|        100              nan                                "
     ]
    },
    {
     "ename": "KeyError",
     "evalue": "6",
     "output_type": "error",
     "traceback": [
      "\u001B[1;31m---------------------------------------------------------------------------\u001B[0m",
      "\u001B[1;31mKeyError\u001B[0m                                  Traceback (most recent call last)",
      "\u001B[1;32m<ipython-input-4-1c6eb8cfe8d8>\u001B[0m in \u001B[0;36m<module>\u001B[1;34m\u001B[0m\n\u001B[0;32m      1\u001B[0m \u001B[1;32mfrom\u001B[0m \u001B[0mlongling\u001B[0m \u001B[1;32mimport\u001B[0m \u001B[0mset_logging_info\u001B[0m\u001B[1;33m\u001B[0m\u001B[1;33m\u001B[0m\u001B[0m\n\u001B[0;32m      2\u001B[0m \u001B[0mset_logging_info\u001B[0m\u001B[1;33m(\u001B[0m\u001B[1;33m)\u001B[0m\u001B[1;33m\u001B[0m\u001B[1;33m\u001B[0m\u001B[0m\n\u001B[1;32m----> 3\u001B[1;33m kss_train_eval(\n\u001B[0m\u001B[0;32m      4\u001B[0m     \u001B[0magent\u001B[0m\u001B[1;33m,\u001B[0m\u001B[1;33m\u001B[0m\u001B[1;33m\u001B[0m\u001B[0m\n\u001B[0;32m      5\u001B[0m     \u001B[0menv\u001B[0m\u001B[1;33m,\u001B[0m\u001B[1;33m\u001B[0m\u001B[1;33m\u001B[0m\u001B[0m\n",
      "\u001B[1;32mE:\\Program\\EduSim\\EduSim\\SimOS\\SimOS.py\u001B[0m in \u001B[0;36mtrain_eval\u001B[1;34m(agent, env, max_steps, max_episode_num, n_step, train, logger, level, board_dir, *args, **kwargs)\u001B[0m\n\u001B[0;32m    221\u001B[0m     \u001B[0msw\u001B[0m\u001B[1;33m,\u001B[0m \u001B[0mepisode_callback\u001B[0m \u001B[1;33m=\u001B[0m \u001B[0mget_board_episode_callback\u001B[0m\u001B[1;33m(\u001B[0m\u001B[0mboard_dir\u001B[0m\u001B[1;33m)\u001B[0m\u001B[1;33m\u001B[0m\u001B[1;33m\u001B[0m\u001B[0m\n\u001B[0;32m    222\u001B[0m \u001B[1;33m\u001B[0m\u001B[0m\n\u001B[1;32m--> 223\u001B[1;33m     meta_train_eval(\n\u001B[0m\u001B[0;32m    224\u001B[0m         \u001B[0magent\u001B[0m\u001B[1;33m,\u001B[0m \u001B[0menv\u001B[0m\u001B[1;33m,\u001B[0m\u001B[1;33m\u001B[0m\u001B[1;33m\u001B[0m\u001B[0m\n\u001B[0;32m    225\u001B[0m         \u001B[0mmax_steps\u001B[0m\u001B[1;33m,\u001B[0m \u001B[0mmax_episode_num\u001B[0m\u001B[1;33m,\u001B[0m \u001B[0mn_step\u001B[0m\u001B[1;33m,\u001B[0m \u001B[0mtrain\u001B[0m\u001B[1;33m,\u001B[0m\u001B[1;33m\u001B[0m\u001B[1;33m\u001B[0m\u001B[0m\n",
      "\u001B[1;32mE:\\Program\\EduSim\\EduSim\\SimOS\\SimOS.py\u001B[0m in \u001B[0;36mmeta_train_eval\u001B[1;34m(agent, env, max_steps, max_episode_num, n_step, train, logger, level, episode_callback, summary_callback, values, monitor)\u001B[0m\n\u001B[0;32m    114\u001B[0m \u001B[1;33m\u001B[0m\u001B[0m\n\u001B[0;32m    115\u001B[0m         \u001B[1;32mtry\u001B[0m\u001B[1;33m:\u001B[0m\u001B[1;33m\u001B[0m\u001B[1;33m\u001B[0m\u001B[0m\n\u001B[1;32m--> 116\u001B[1;33m             \u001B[0mlearner_profile\u001B[0m \u001B[1;33m=\u001B[0m \u001B[0menv\u001B[0m\u001B[1;33m.\u001B[0m\u001B[0mbegin_episode\u001B[0m\u001B[1;33m(\u001B[0m\u001B[1;33m)\u001B[0m\u001B[1;33m\u001B[0m\u001B[1;33m\u001B[0m\u001B[0m\n\u001B[0m\u001B[0;32m    117\u001B[0m             \u001B[0magent\u001B[0m\u001B[1;33m.\u001B[0m\u001B[0mbegin_episode\u001B[0m\u001B[1;33m(\u001B[0m\u001B[0mlearner_profile\u001B[0m\u001B[1;33m)\u001B[0m\u001B[1;33m\u001B[0m\u001B[1;33m\u001B[0m\u001B[0m\n\u001B[0;32m    118\u001B[0m             \u001B[0mepisode\u001B[0m \u001B[1;33m+=\u001B[0m \u001B[1;36m1\u001B[0m\u001B[1;33m\u001B[0m\u001B[1;33m\u001B[0m\u001B[0m\n",
      "\u001B[1;32mE:\\Program\\EduSim\\EduSim\\Envs\\KSS\\Env.py\u001B[0m in \u001B[0;36mbegin_episode\u001B[1;34m(self, *args, **kwargs)\u001B[0m\n\u001B[0;32m    137\u001B[0m     \u001B[1;32mdef\u001B[0m \u001B[0mbegin_episode\u001B[0m\u001B[1;33m(\u001B[0m\u001B[0mself\u001B[0m\u001B[1;33m,\u001B[0m \u001B[1;33m*\u001B[0m\u001B[0margs\u001B[0m\u001B[1;33m,\u001B[0m \u001B[1;33m**\u001B[0m\u001B[0mkwargs\u001B[0m\u001B[1;33m)\u001B[0m\u001B[1;33m:\u001B[0m\u001B[1;33m\u001B[0m\u001B[1;33m\u001B[0m\u001B[0m\n\u001B[0;32m    138\u001B[0m         \u001B[0mself\u001B[0m\u001B[1;33m.\u001B[0m\u001B[0m_learner\u001B[0m \u001B[1;33m=\u001B[0m \u001B[0mnext\u001B[0m\u001B[1;33m(\u001B[0m\u001B[0mself\u001B[0m\u001B[1;33m.\u001B[0m\u001B[0mlearners\u001B[0m\u001B[1;33m)\u001B[0m\u001B[1;33m\u001B[0m\u001B[1;33m\u001B[0m\u001B[0m\n\u001B[1;32m--> 139\u001B[1;33m         \u001B[0mself\u001B[0m\u001B[1;33m.\u001B[0m\u001B[0m_initial_logs\u001B[0m\u001B[1;33m(\u001B[0m\u001B[0mself\u001B[0m\u001B[1;33m.\u001B[0m\u001B[0m_learner\u001B[0m\u001B[1;33m)\u001B[0m\u001B[1;33m\u001B[0m\u001B[1;33m\u001B[0m\u001B[0m\n\u001B[0m\u001B[0;32m    140\u001B[0m         \u001B[0mself\u001B[0m\u001B[1;33m.\u001B[0m\u001B[0m_initial_score\u001B[0m \u001B[1;33m=\u001B[0m \u001B[0mself\u001B[0m\u001B[1;33m.\u001B[0m\u001B[0m_exam\u001B[0m\u001B[1;33m(\u001B[0m\u001B[0mself\u001B[0m\u001B[1;33m.\u001B[0m\u001B[0m_learner\u001B[0m\u001B[1;33m)\u001B[0m\u001B[1;33m\u001B[0m\u001B[1;33m\u001B[0m\u001B[0m\n\u001B[0;32m    141\u001B[0m         \u001B[1;32mreturn\u001B[0m \u001B[0mself\u001B[0m\u001B[1;33m.\u001B[0m\u001B[0m_learner\u001B[0m\u001B[1;33m.\u001B[0m\u001B[0mprofile\u001B[0m\u001B[1;33m,\u001B[0m \u001B[0mself\u001B[0m\u001B[1;33m.\u001B[0m\u001B[0m_exam\u001B[0m\u001B[1;33m(\u001B[0m\u001B[0mself\u001B[0m\u001B[1;33m.\u001B[0m\u001B[0m_learner\u001B[0m\u001B[1;33m,\u001B[0m \u001B[0mdetailed\u001B[0m\u001B[1;33m=\u001B[0m\u001B[1;32mTrue\u001B[0m\u001B[1;33m)\u001B[0m\u001B[1;33m\u001B[0m\u001B[1;33m\u001B[0m\u001B[0m\n",
      "\u001B[1;32mE:\\Program\\EduSim\\EduSim\\Envs\\KSS\\Env.py\u001B[0m in \u001B[0;36m_initial_logs\u001B[1;34m(self, learner)\u001B[0m\n\u001B[0;32m     90\u001B[0m                     \u001B[0mlearning_item_id\u001B[0m \u001B[1;33m=\u001B[0m \u001B[0mself\u001B[0m\u001B[1;33m.\u001B[0m\u001B[0mrandom_state\u001B[0m\u001B[1;33m.\u001B[0m\u001B[0mchoice\u001B[0m\u001B[1;33m(\u001B[0m\u001B[0mlist\u001B[0m\u001B[1;33m(\u001B[0m\u001B[0mself\u001B[0m\u001B[1;33m.\u001B[0m\u001B[0mlearning_item_base\u001B[0m\u001B[1;33m.\u001B[0m\u001B[0mindex\u001B[0m\u001B[1;33m)\u001B[0m\u001B[1;33m)\u001B[0m\u001B[1;33m\u001B[0m\u001B[1;33m\u001B[0m\u001B[0m\n\u001B[0;32m     91\u001B[0m \u001B[1;33m\u001B[0m\u001B[0m\n\u001B[1;32m---> 92\u001B[1;33m                 \u001B[0mtest_item_id\u001B[0m\u001B[1;33m,\u001B[0m \u001B[0mscore\u001B[0m \u001B[1;33m=\u001B[0m \u001B[0mself\u001B[0m\u001B[1;33m.\u001B[0m\u001B[0mlearn_and_test\u001B[0m\u001B[1;33m(\u001B[0m\u001B[0mlearner\u001B[0m\u001B[1;33m,\u001B[0m \u001B[0mlearning_item_id\u001B[0m\u001B[1;33m)\u001B[0m\u001B[1;33m\u001B[0m\u001B[1;33m\u001B[0m\u001B[0m\n\u001B[0m\u001B[0;32m     93\u001B[0m                 \u001B[0mlogs\u001B[0m\u001B[1;33m.\u001B[0m\u001B[0mappend\u001B[0m\u001B[1;33m(\u001B[0m\u001B[1;33m[\u001B[0m\u001B[0mtest_item_id\u001B[0m\u001B[1;33m,\u001B[0m \u001B[0mscore\u001B[0m\u001B[1;33m]\u001B[0m\u001B[1;33m)\u001B[0m\u001B[1;33m\u001B[0m\u001B[1;33m\u001B[0m\u001B[0m\n\u001B[0;32m     94\u001B[0m         \u001B[1;32melse\u001B[0m\u001B[1;33m:\u001B[0m\u001B[1;33m\u001B[0m\u001B[1;33m\u001B[0m\u001B[0m\n",
      "\u001B[1;32mE:\\Program\\EduSim\\EduSim\\Envs\\KSS\\Env.py\u001B[0m in \u001B[0;36mlearn_and_test\u001B[1;34m(self, learner, item_id)\u001B[0m\n\u001B[0;32m    110\u001B[0m \u001B[1;33m\u001B[0m\u001B[0m\n\u001B[0;32m    111\u001B[0m     \u001B[1;32mdef\u001B[0m \u001B[0mlearn_and_test\u001B[0m\u001B[1;33m(\u001B[0m\u001B[0mself\u001B[0m\u001B[1;33m,\u001B[0m \u001B[0mlearner\u001B[0m\u001B[1;33m:\u001B[0m \u001B[0mLearner\u001B[0m\u001B[1;33m,\u001B[0m \u001B[0mitem_id\u001B[0m\u001B[1;33m)\u001B[0m\u001B[1;33m:\u001B[0m\u001B[1;33m\u001B[0m\u001B[1;33m\u001B[0m\u001B[0m\n\u001B[1;32m--> 112\u001B[1;33m         \u001B[0mlearning_item\u001B[0m \u001B[1;33m=\u001B[0m \u001B[0mself\u001B[0m\u001B[1;33m.\u001B[0m\u001B[0mlearning_item_base\u001B[0m\u001B[1;33m[\u001B[0m\u001B[0mitem_id\u001B[0m\u001B[1;33m]\u001B[0m\u001B[1;33m\u001B[0m\u001B[1;33m\u001B[0m\u001B[0m\n\u001B[0m\u001B[0;32m    113\u001B[0m         \u001B[0mlearner\u001B[0m\u001B[1;33m.\u001B[0m\u001B[0mlearn\u001B[0m\u001B[1;33m(\u001B[0m\u001B[0mlearning_item\u001B[0m\u001B[1;33m)\u001B[0m\u001B[1;33m\u001B[0m\u001B[1;33m\u001B[0m\u001B[0m\n\u001B[0;32m    114\u001B[0m         \u001B[0mtest_item_id\u001B[0m \u001B[1;33m=\u001B[0m \u001B[0mitem_id\u001B[0m\u001B[1;33m\u001B[0m\u001B[1;33m\u001B[0m\u001B[0m\n",
      "\u001B[1;32mE:\\Program\\EduSim\\EduSim\\Envs\\meta\\ItemBase.py\u001B[0m in \u001B[0;36m__getitem__\u001B[1;34m(self, item)\u001B[0m\n\u001B[0;32m     83\u001B[0m \u001B[1;33m\u001B[0m\u001B[0m\n\u001B[0;32m     84\u001B[0m     \u001B[1;32mdef\u001B[0m \u001B[0m__getitem__\u001B[0m\u001B[1;33m(\u001B[0m\u001B[0mself\u001B[0m\u001B[1;33m,\u001B[0m \u001B[0mitem\u001B[0m\u001B[1;33m)\u001B[0m\u001B[1;33m:\u001B[0m\u001B[1;33m\u001B[0m\u001B[1;33m\u001B[0m\u001B[0m\n\u001B[1;32m---> 85\u001B[1;33m         \u001B[1;32mreturn\u001B[0m \u001B[0mself\u001B[0m\u001B[1;33m.\u001B[0m\u001B[0mindex\u001B[0m\u001B[1;33m[\u001B[0m\u001B[0mitem\u001B[0m\u001B[1;33m]\u001B[0m\u001B[1;33m\u001B[0m\u001B[1;33m\u001B[0m\u001B[0m\n\u001B[0m\u001B[0;32m     86\u001B[0m \u001B[1;33m\u001B[0m\u001B[0m\n\u001B[0;32m     87\u001B[0m     \u001B[1;32mdef\u001B[0m \u001B[0m__contains__\u001B[0m\u001B[1;33m(\u001B[0m\u001B[0mself\u001B[0m\u001B[1;33m,\u001B[0m \u001B[0mitem\u001B[0m\u001B[1;33m)\u001B[0m\u001B[1;33m:\u001B[0m\u001B[1;33m\u001B[0m\u001B[1;33m\u001B[0m\u001B[0m\n",
      "\u001B[1;31mKeyError\u001B[0m: 6"
     ]
    }
   ],
   "source": [
    "from longling import set_logging_info\n",
    "set_logging_info()\n",
    "kss_train_eval(\n",
    "    agent,\n",
    "    env,\n",
    "    max_steps=20,\n",
    "    max_episode_num=100,  # 4.1.2\n",
    "    level=\"summary\",\n",
    ")\n",
    "print(\"done\")\n"
   ],
   "metadata": {
    "collapsed": false,
    "pycharm": {
     "name": "#%%\n"
    }
   }
  }
 ],
 "metadata": {
  "kernelspec": {
   "display_name": "Python 3",
   "language": "python",
   "name": "python3"
  },
  "language_info": {
   "codemirror_mode": {
    "name": "ipython",
    "version": 2
   },
   "file_extension": ".py",
   "mimetype": "text/x-python",
   "name": "python",
   "nbconvert_exporter": "python",
   "pygments_lexer": "ipython2",
   "version": "2.7.6"
  }
 },
 "nbformat": 4,
 "nbformat_minor": 0
}