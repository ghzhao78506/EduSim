{
 "cells": [
  {
   "cell_type": "code",
   "execution_count": 1,
   "metadata": {
    "collapsed": true
   },
   "outputs": [
    {
     "ename": "ImportError",
     "evalue": "cannot import name 'RandomGraphAgent'",
     "output_type": "error",
     "traceback": [
      "\u001B[1;31m---------------------------------------------------------------------------\u001B[0m",
      "\u001B[1;31mImportError\u001B[0m                               Traceback (most recent call last)",
      "\u001B[1;32m<ipython-input-1-92473f69ec6e>\u001B[0m in \u001B[0;36m<module>\u001B[1;34m\u001B[0m\n\u001B[0;32m      1\u001B[0m \u001B[1;32mimport\u001B[0m \u001B[0mgym\u001B[0m\u001B[1;33m\u001B[0m\u001B[0m\n\u001B[0;32m      2\u001B[0m \u001B[1;33m\u001B[0m\u001B[0m\n\u001B[1;32m----> 3\u001B[1;33m \u001B[1;32mfrom\u001B[0m \u001B[0mEduSim\u001B[0m \u001B[1;32mimport\u001B[0m \u001B[0mRandomGraphAgent\u001B[0m\u001B[1;33m,\u001B[0m \u001B[0mGraph\u001B[0m\u001B[1;33m,\u001B[0m \u001B[0mget_reward\u001B[0m\u001B[1;33m\u001B[0m\u001B[0m\n\u001B[0m\u001B[0;32m      4\u001B[0m \u001B[1;33m\u001B[0m\u001B[0m\n\u001B[0;32m      5\u001B[0m \u001B[0mstep_num\u001B[0m \u001B[1;33m=\u001B[0m \u001B[1;36m20\u001B[0m\u001B[1;33m\u001B[0m\u001B[0m\n",
      "\u001B[1;31mImportError\u001B[0m: cannot import name 'RandomGraphAgent'"
     ]
    }
   ],
   "source": [
    "import gym\n",
    "\n",
    "from EduSim.Envs.KSS.Agent import RandomAgent\n",
    "\n",
    "step_num = 20\n",
    "episode_num = 40\n",
    "scores = []\n",
    "reward_func = get_reward()\n",
    "\n",
    "environment = gym.make(\"EduSim:KSS-v0\")\n",
    "agent = RandomGraphAgent(Graph(\"KSS\"))\n",
    "for i in range(episode_num):\n",
    "    # episode\n",
    "    exercises_record, target = environment.begin_episode()\n",
    "    initial_score = environment.run_test(target)\n",
    "\n",
    "    agent.begin_episode(exercises_record, target)\n",
    "\n",
    "    for j in range(step_num):\n",
    "        action, q = agent.step()\n",
    "        assert isinstance(action, int)\n",
    "        (exercise, correct), _, _, _ = environment.step(exercise=action)\n",
    "\n",
    "        assert isinstance(exercise, int)\n",
    "        assert correct in {0, 1}\n",
    "        agent.observe(exercise, correct)\n",
    "\n",
    "    final_score = environment.run_test(target)\n",
    "    environment.end_episode()\n",
    "    rec_path = agent.end_episode()\n",
    "\n",
    "    rewards = reward_func(initial_score, final_score, len(target), rec_path)\n",
    "    scores.append(rewards[-1])\n",
    "\n",
    "print(sum(scores) / episode_num)\n"
   ]
  }
 ],
 "metadata": {
  "kernelspec": {
   "display_name": "Python 3",
   "language": "python",
   "name": "python3"
  },
  "language_info": {
   "codemirror_mode": {
    "name": "ipython",
    "version": 2
   },
   "file_extension": ".py",
   "mimetype": "text/x-python",
   "name": "python",
   "nbconvert_exporter": "python",
   "pygments_lexer": "ipython2",
   "version": "2.7.6"
  }
 },
 "nbformat": 4,
 "nbformat_minor": 0
}